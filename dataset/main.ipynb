{
 "cells": [
  {
   "cell_type": "code",
   "execution_count": 1,
   "metadata": {},
   "outputs": [],
   "source": [
    "import pandas as pd\n",
    "\n",
    "\n",
    "data = pd.read_pickle('smart_app_data.pkl')\n",
    "\n",
    "# Load data from the pickle file\n",
    "#with open(\"smart_app_data.pkl\", \"rb\") as file:\n",
    "#    data = pickle.load(file)\n",
    "\n",
    "# Convert data to DataFrame\n",
    "# Ensure that 'data' is in a tabular format compatible with a DataFrame\n",
    "#df = pd.DataFrame(data)\n",
    "\n",
    "# Save DataFrame to a CSV file\n",
    "data.to_csv(\"smart_app_data.csv\", index=False)"
   ]
  },
  {
   "cell_type": "code",
   "execution_count": null,
   "metadata": {},
   "outputs": [],
   "source": [
    "print(data)"
   ]
  }
 ],
 "metadata": {
  "kernelspec": {
   "display_name": "ml",
   "language": "python",
   "name": "python3"
  },
  "language_info": {
   "codemirror_mode": {
    "name": "ipython",
    "version": 3
   },
   "file_extension": ".py",
   "mimetype": "text/x-python",
   "name": "python",
   "nbconvert_exporter": "python",
   "pygments_lexer": "ipython3",
   "version": "3.12.4"
  }
 },
 "nbformat": 4,
 "nbformat_minor": 2
}
